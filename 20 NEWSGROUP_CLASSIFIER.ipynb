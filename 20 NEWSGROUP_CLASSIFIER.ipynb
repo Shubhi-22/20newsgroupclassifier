{
 "cells": [
  {
   "cell_type": "code",
   "execution_count": 1,
   "id": "c9e8d9ed",
   "metadata": {},
   "outputs": [],
   "source": [
    "from sklearn.datasets import fetch_20newsgroups"
   ]
  },
  {
   "cell_type": "code",
   "execution_count": 2,
   "id": "fbbf9355",
   "metadata": {},
   "outputs": [],
   "source": [
    "categories=['comp.graphics','rec.sport.hockey','sci.electronics','sci.med','sci.space','talk.politics.mideast']\n",
    "newsgroup_train=fetch_20newsgroups(subset='train',categories=categories,shuffle=True)\n",
    "newsgroup_test=fetch_20newsgroups(subset='test',categories=categories,shuffle=True)"
   ]
  },
  {
   "cell_type": "code",
   "execution_count": 3,
   "id": "3aa175f8",
   "metadata": {},
   "outputs": [
    {
     "name": "stdout",
     "output_type": "stream",
     "text": [
      "dict_keys(['data', 'filenames', 'target_names', 'target', 'DESCR'])\n"
     ]
    }
   ],
   "source": [
    "print(newsgroup_train.keys())"
   ]
  },
  {
   "cell_type": "code",
   "execution_count": 4,
   "id": "b12dc196",
   "metadata": {},
   "outputs": [
    {
     "name": "stdout",
     "output_type": "stream",
     "text": [
      "['comp.graphics', 'rec.sport.hockey', 'sci.electronics', 'sci.med', 'sci.space', 'talk.politics.mideast']\n"
     ]
    }
   ],
   "source": [
    "print(newsgroup_train['target_names'])"
   ]
  },
  {
   "cell_type": "code",
   "execution_count": 5,
   "id": "9bb960c5",
   "metadata": {},
   "outputs": [
    {
     "data": {
      "text/plain": [
       "(3526, 50382)"
      ]
     },
     "execution_count": 5,
     "metadata": {},
     "output_type": "execute_result"
    }
   ],
   "source": [
    "from sklearn.feature_extraction.text import CountVectorizer\n",
    "vector=CountVectorizer()\n",
    "X_train=vector.fit(newsgroup_train.data)\n",
    "X_train=vector.transform(newsgroup_train.data)\n",
    "X_train.shape"
   ]
  },
  {
   "cell_type": "code",
   "execution_count": 6,
   "id": "d81cfe00",
   "metadata": {},
   "outputs": [
    {
     "data": {
      "text/plain": [
       "(3526, 50382)"
      ]
     },
     "execution_count": 6,
     "metadata": {},
     "output_type": "execute_result"
    }
   ],
   "source": [
    "from sklearn.feature_extraction.text import TfidfTransformer\n",
    "tf_idf=TfidfTransformer()\n",
    "X_train_tfidf=tf_idf.fit(X_train)\n",
    "X_train_tfidf=tf_idf.transform(X_train)\n",
    "X_train_tfidf.shape"
   ]
  },
  {
   "cell_type": "code",
   "execution_count": 8,
   "id": "31789c23",
   "metadata": {},
   "outputs": [],
   "source": [
    "from sklearn.naive_bayes import MultinomialNB\n",
    "result=MultinomialNB().fit(X_train_tfidf,newsgroup_train.target)"
   ]
  },
  {
   "cell_type": "code",
   "execution_count": 10,
   "id": "71bbbce3",
   "metadata": {},
   "outputs": [],
   "source": [
    "X_test=vector.transform(newsgroup_test.data)\n",
    "X_test_tfidf=tf_idf.transform(X_test)\n",
    "prediction=result.predict(X_test_tfidf)"
   ]
  },
  {
   "cell_type": "code",
   "execution_count": 11,
   "id": "38b0c91a",
   "metadata": {},
   "outputs": [
    {
     "name": "stdout",
     "output_type": "stream",
     "text": [
      "Accuracy:  0.922028121005539\n",
      "                       precision    recall  f1-score   support\n",
      "\n",
      "        comp.graphics       0.92      0.85      0.89       389\n",
      "     rec.sport.hockey       0.95      0.99      0.97       399\n",
      "      sci.electronics       0.91      0.85      0.88       393\n",
      "              sci.med       0.94      0.91      0.92       396\n",
      "            sci.space       0.89      0.95      0.92       394\n",
      "talk.politics.mideast       0.92      0.98      0.95       376\n",
      "\n",
      "             accuracy                           0.92      2347\n",
      "            macro avg       0.92      0.92      0.92      2347\n",
      "         weighted avg       0.92      0.92      0.92      2347\n",
      "\n"
     ]
    },
    {
     "data": {
      "text/plain": [
       "array([[331,   7,  23,   6,  16,   6],\n",
       "       [  0, 395,   0,   1,   1,   2],\n",
       "       [ 16,   4, 334,   9,  21,   9],\n",
       "       [  6,   7,   8, 359,   7,   9],\n",
       "       [  4,   1,   1,   6, 375,   7],\n",
       "       [  1,   1,   3,   1,   0, 370]], dtype=int64)"
      ]
     },
     "execution_count": 11,
     "metadata": {},
     "output_type": "execute_result"
    }
   ],
   "source": [
    "from sklearn import metrics\n",
    "from sklearn.metrics import accuracy_score\n",
    "print('Accuracy: ',accuracy_score(newsgroup_test.target,prediction))\n",
    "print(metrics.classification_report(newsgroup_test.target,prediction,target_names=newsgroup_test.target_names))\n",
    "metrics.confusion_matrix(newsgroup_test.target,prediction)"
   ]
  },
  {
   "cell_type": "code",
   "execution_count": null,
   "id": "1a76c6c5",
   "metadata": {},
   "outputs": [],
   "source": []
  }
 ],
 "metadata": {
  "kernelspec": {
   "display_name": "Python 3",
   "language": "python",
   "name": "python3"
  },
  "language_info": {
   "codemirror_mode": {
    "name": "ipython",
    "version": 3
   },
   "file_extension": ".py",
   "mimetype": "text/x-python",
   "name": "python",
   "nbconvert_exporter": "python",
   "pygments_lexer": "ipython3",
   "version": "3.8.8"
  }
 },
 "nbformat": 4,
 "nbformat_minor": 5
}
